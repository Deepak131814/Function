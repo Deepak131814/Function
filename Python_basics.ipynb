{
  "nbformat": 4,
  "nbformat_minor": 0,
  "metadata": {
    "colab": {
      "provenance": []
    },
    "kernelspec": {
      "name": "python3",
      "display_name": "Python 3"
    },
    "language_info": {
      "name": "python"
    }
  },
  "cells": [
    {
      "cell_type": "markdown",
      "source": [
        "# Python Basics"
      ],
      "metadata": {
        "id": "hGkfnzDPWSlQ"
      }
    },
    {
      "cell_type": "markdown",
      "source": [
        "1.What is Python, and why is it popular?\n",
        "  - Python is a high-level, interpreted, and general-purpose programming language known for its simplicity and read\n",
        "  ability.\n",
        "  -Python follows an object-oriented, procedural, and functional programming approach.\n",
        "  -Python is widely used because of its ease of use, flexibility, and strong community support. Here are some key reasons for its popularity\n",
        "\n",
        "2.What is an interpreter in Python?\n",
        "\n",
        "  - An interpreter in Python is a program that executes Python code line by line  instead of compiling the entire code at once. It reads each line of code, converts it into machine code, and executes it immediately.\n",
        "\n",
        "3.What are pre-defined keywords in Python?\n",
        "\n",
        "  - Control Flow         :if, elif, else, for, while, break, continue, pass\n",
        "  - Function & Class     :def, return, lambda, class, yield\n",
        "  - Exception Handling   :try, except, finally, raise, assert\n",
        "  - Boolean & Logical    :True, False, None, and, or, not, is, in\n",
        "  - Variable Handling    :global, nonlocal, del\n",
        "  - Import & Modules     :import, from, as\n",
        "  - Object-Oriented      :self, super\n",
        "  - Miscellaneous        :with, async, await\n",
        "  -Run import keyword; print(keyword.kwlist) to get the full list.\n",
        "\n",
        "4.Can keywords be used as variable names?\n",
        "  - No, keywords cannot be used as variable names in Python.\n",
        "Keywords are reserved words that have special meanings in Python, so using them as variable names will cause a SyntaxError\n",
        "\n",
        "5.What is mutability in Python?\n",
        " - In Python, mutability determines whether an object’s state (value) can be changed after creation.\n",
        "\n",
        " - Mutable objects → Can be modified after creation.\n",
        "Immutable objects → Cannot be changed after creation; any modification results in a new object.\n",
        "\n",
        "6.Why are lists mutable, but tuples are immutable?\n",
        " - The key difference between lists (list) and tuples (tuple) in Python is mutability:\n",
        "\n",
        "- Lists are mutable → You can change, add, or remove elements after creation.\n",
        "Tuples are immutable → Once created, their elements cannot be changed.\n",
        "7.What is the difference between “==” and “is” operators in Python\n",
        "  - In Python, == and is are two different comparison operators used to compare objects, but they work in fundamentally different ways\n",
        "\n",
        "  - == (Equality Operator) Checks whether two objects have the same value, regardless of their memory location.\n",
        "  -is (Identity Operator ) Checks whether two variables refer to the exact same object in memory.\n",
        "\n",
        "  8.What are logical operators in Python?\n",
        "   - and → Returns True if both conditions are True.\n",
        "   - or → Returns True if at least one condition is\n",
        "   -not → Negates the Boolean value\n",
        "\n",
        "9.What is type casting in Python?\n",
        " - Type casting (or type conversion) in Python is the process of converting one data type into another.\n",
        "\n",
        "10.What is the difference between implicit and explicit type casting?\n",
        "  - 1.Explicit Type Casting\n",
        "      - Explicit type casting is when we manually convert a variable from one\n",
        "         type to another using built-in functions\n",
        "\n",
        " - 2.Implicit Type Casting\n",
        "      - Python automatically converts a smaller data type into a larger one when needed (to prevent data loss)\n",
        "\n",
        "11.What is the purpose of conditional statements in Python?\n",
        " - Conditional statements in Python control the flow of a program by executing different code blocks based on conditions. They allow decision-making in the program.\n",
        "\n",
        " 12.How does the elif statement work?\n",
        "   - The elif (short for \"else if\") statement is used when you need to check multiple conditions in a decision-making process. It allows the program to execute only one block of code from multiple conditions.\n",
        "\n",
        "13 . What is the difference between for and while loops?\n",
        "  - Use for loop when the number of iterations is known in advance (e.g., iterating through the first 10 employees), as it uses a range, sequence, or cursor and automatically updates the loop variable.\n",
        "\n",
        "  -  Use while loop when the number of iterations is unknown (e.g., processing customer orders until inventory runs out), as it runs based on a condition that is checked before each iteration and requires manual update of the condition variable.\n",
        "\n",
        "14. Describe a scenario where a while loop is more suitable than a for loop?\n",
        "\n",
        "    - A customer at an ATM can withdraw money until their account balance is insufficient. Since we don’t know in advance how many withdrawals the customer will make, a while loop is the best choice.\n",
        "\n",
        "- Practical Questions\n",
        "\n",
        "  \n",
        "\n",
        "\n",
        "  \n",
        "\n",
        "\n",
        "  \n",
        "\n",
        "\n",
        "\n",
        "\n",
        "\n",
        "\n",
        "\n",
        "\n",
        "\n",
        "\n"
      ],
      "metadata": {
        "id": "1iTY7mJSWqZB"
      }
    },
    {
      "cell_type": "code",
      "source": [
        "# 1. Write a Python program to print \"Hello, World!_\n",
        "print(\"Hello, World!\")\n"
      ],
      "metadata": {
        "colab": {
          "base_uri": "https://localhost:8080/"
        },
        "id": "fjKRF4M2woch",
        "outputId": "0152b4aa-ebde-40e1-cb07-2baba1ba8383"
      },
      "execution_count": 5,
      "outputs": [
        {
          "output_type": "stream",
          "name": "stdout",
          "text": [
            "Hello, World!\n"
          ]
        }
      ]
    },
    {
      "cell_type": "code",
      "source": [
        "# 2.Write a Python program that displays your name and age0\n",
        "\n",
        "name = \"Bhupendra Singh\"\n",
        "age = 25\n",
        "print(\"My name is :\", name)\n",
        "print(\"I am\", age, \"years old\")\n"
      ],
      "metadata": {
        "colab": {
          "base_uri": "https://localhost:8080/"
        },
        "id": "yi-3cTPhw3PR",
        "outputId": "981300ed-9262-4d24-df92-a6099ac5aa09"
      },
      "execution_count": 7,
      "outputs": [
        {
          "output_type": "stream",
          "name": "stdout",
          "text": [
            "My name is : Bhupendra Singh\n",
            "I am 25 years old\n"
          ]
        }
      ]
    },
    {
      "cell_type": "code",
      "source": [
        "# 3.Write code to print all the pre-defined keywords in Python using the keyword library0\n",
        "import keyword\n",
        "\n",
        "print(\"Python Keywords:\")\n",
        "print(keyword.kwlist)  # Prints the full list of keywords\n"
      ],
      "metadata": {
        "colab": {
          "base_uri": "https://localhost:8080/"
        },
        "id": "g_DweKfnyEqs",
        "outputId": "3d4a6dfe-862e-42cf-cb0f-1fe09c1fa35c"
      },
      "execution_count": 13,
      "outputs": [
        {
          "output_type": "stream",
          "name": "stdout",
          "text": [
            "Python Keywords:\n",
            "['False', 'None', 'True', 'and', 'as', 'assert', 'async', 'await', 'break', 'class', 'continue', 'def', 'del', 'elif', 'else', 'except', 'finally', 'for', 'from', 'global', 'if', 'import', 'in', 'is', 'lambda', 'nonlocal', 'not', 'or', 'pass', 'raise', 'return', 'try', 'while', 'with', 'yield']\n"
          ]
        }
      ]
    },
    {
      "cell_type": "code",
      "source": [
        "#4. Write a program that checks if a given word is a Python keyword0\n",
        "import keyword\n",
        "\n",
        "word = input(\"Enter a word: \")\n",
        "\n",
        "if keyword.iskeyword(word):\n",
        "    print(f\"'{word}' is a Python keyword.\")\n",
        "else:\n",
        "    print(f\"'{word}' is NOT a Python keyword.\")\n"
      ],
      "metadata": {
        "colab": {
          "base_uri": "https://localhost:8080/"
        },
        "id": "T3_QHaLXyoG-",
        "outputId": "42f71fbf-3343-4581-a47d-b5b11a9a85fd"
      },
      "execution_count": 16,
      "outputs": [
        {
          "output_type": "stream",
          "name": "stdout",
          "text": [
            "Enter a word: hgig\n",
            "'hgig' is NOT a Python keyword.\n"
          ]
        }
      ]
    },
    {
      "cell_type": "code",
      "source": [
        "#5.Create a list and tuple in Python, and demonstrate how attempting to change an element works differently\n",
        "#for each0\n",
        "# Creating a list (mutable)\n",
        "my_list = [10, 20, 30]\n",
        "print(\"Original List:\", my_list)\n",
        "\n",
        "# Modifying an element in the list\n",
        "my_list[1] = 25  # Changing second element (index 1)\n",
        "print(\"Modified List:\", my_list)  # Works fine\n",
        "\n",
        "# Creating a tuple (immutable)\n",
        "my_tuple = (10, 20, 30)\n",
        "print(\"\\nOriginal Tuple:\", my_tuple)\n",
        "\n",
        "# Attempting to modify an element in the tuple (this will cause an error)\n",
        "try:\n",
        "    my_tuple[1] = 25  # Tuples cannot be modified\n",
        "except TypeError as e:\n",
        "    print(\"Error:\", e)  # Catches and prints the error\n"
      ],
      "metadata": {
        "colab": {
          "base_uri": "https://localhost:8080/"
        },
        "id": "lmXxHwSbzPXI",
        "outputId": "185548b1-e6cf-4f92-91a2-87e089aa5d40"
      },
      "execution_count": 18,
      "outputs": [
        {
          "output_type": "stream",
          "name": "stdout",
          "text": [
            "Original List: [10, 20, 30]\n",
            "Modified List: [10, 25, 30]\n",
            "\n",
            "Original Tuple: (10, 20, 30)\n",
            "Error: 'tuple' object does not support item assignment\n"
          ]
        }
      ]
    },
    {
      "cell_type": "code",
      "source": [
        "#6.0 Write a function to demonstrate the behavior of mutable and immutable arguments0\n",
        "def modify_data(mutable_list, immutable_number):\n",
        "    # Modifying the mutable argument (list)\n",
        "    mutable_list.append(4)  # This changes the original list\n",
        "\n",
        "    # Modifying the immutable argument (integer)\n",
        "    immutable_number += 10  # This does NOT change the original number\n",
        "\n",
        "    print(\"Inside Function - Modified List:\", mutable_list)\n",
        "    print(\"Inside Function - Modified Number:\", immutable_number)\n",
        "\n",
        "# Creating a list (mutable) and an integer (immutable)\n",
        "my_list = [1, 2, 3]\n",
        "my_number = 5\n",
        "\n",
        "print(\"Before Function Call - List:\", my_list)\n",
        "print(\"Before Function Call - Number:\", my_number)\n",
        "\n",
        "# Calling the function\n",
        "modify_data(my_list, my_number)\n",
        "\n",
        "print(\"\\nAfter Function Call - List:\", my_list)  # List is modified\n",
        "print(\"After Function Call - Number:\", my_number)  # Number remains unchanged\n"
      ],
      "metadata": {
        "colab": {
          "base_uri": "https://localhost:8080/"
        },
        "id": "hFTiuHlWze6u",
        "outputId": "e60e78fd-6491-44c4-9e77-028364b0826f"
      },
      "execution_count": 20,
      "outputs": [
        {
          "output_type": "stream",
          "name": "stdout",
          "text": [
            "Before Function Call - List: [1, 2, 3]\n",
            "Before Function Call - Number: 5\n",
            "Inside Function - Modified List: [1, 2, 3, 4]\n",
            "Inside Function - Modified Number: 15\n",
            "\n",
            "After Function Call - List: [1, 2, 3, 4]\n",
            "After Function Call - Number: 5\n"
          ]
        }
      ]
    },
    {
      "cell_type": "code",
      "source": [
        "#7.Write a program to demonstrate the use of logical operators\n",
        "\n",
        "a = True\n",
        "b = False\n",
        "\n",
        "# Logical AND\n",
        "print(\"a and b:\", a and b)  # False, because one value is False\n",
        "\n",
        "# Logical OR\n",
        "print(\"a or b:\", a or b)  # True, because at least one value is True\n",
        "\n",
        "# Logical NOT\n",
        "print(\"not a:\", not a)  # False, because a is True and NOT reverses it\n",
        "print(\"not b:\", not b)  # True, because b is False and NOT reverses it\n"
      ],
      "metadata": {
        "colab": {
          "base_uri": "https://localhost:8080/"
        },
        "id": "J1GQ6g6s0EH5",
        "outputId": "2da986d5-d01e-4f72-a841-46a4d522f298"
      },
      "execution_count": 22,
      "outputs": [
        {
          "output_type": "stream",
          "name": "stdout",
          "text": [
            "a and b: False\n",
            "a or b: True\n",
            "not a: False\n",
            "not b: True\n"
          ]
        }
      ]
    },
    {
      "cell_type": "code",
      "source": [
        "#8.Write a Python program to convert user input from string to integer, float, and boolean types0\n",
        "# Taking user input as a string\n",
        "user_input = input(\"Enter a value: \")\n",
        "\n",
        "# Converting to integer\n",
        "try:\n",
        "    int_value = int(user_input)\n",
        "    print(\"Integer:\", int_value)\n",
        "except ValueError:\n",
        "    print(\"Cannot convert to integer.\")\n",
        "\n",
        "# Converting to float\n",
        "try:\n",
        "    float_value = float(user_input)\n",
        "    print(\"Float:\", float_value)\n",
        "except ValueError:\n",
        "    print(\"Cannot convert to float.\")\n",
        "\n",
        "# Converting to boolean\n",
        "bool_value = bool(user_input)  # Empty string \"\" gives False, any other value gives True\n",
        "print(\"Boolean:\", bool_value)\n"
      ],
      "metadata": {
        "colab": {
          "base_uri": "https://localhost:8080/"
        },
        "id": "7GR8pBeX0aUB",
        "outputId": "f984687b-1d6d-4365-eae2-26da997ef768"
      },
      "execution_count": 23,
      "outputs": [
        {
          "output_type": "stream",
          "name": "stdout",
          "text": [
            "Enter a value: 10\n",
            "Integer: 10\n",
            "Float: 10.0\n",
            "Boolean: True\n"
          ]
        }
      ]
    },
    {
      "cell_type": "code",
      "source": [
        "#9.Write code to demonstrate type casting with list elements\n",
        "# Original list with mixed data types (strings of numbers)\n",
        "str_list = [\"10\", \"20\", \"30\", \"40.5\", \"50.7\"]\n",
        "\n",
        "# Convert to integer list (only valid integer strings)\n",
        "int_list = [int(x) for x in str_list if x.isdigit()]\n",
        "print(\"Integer List:\", int_list)\n",
        "\n",
        "# Convert to float list (including decimal values)\n",
        "float_list = [float(x) for x in str_list]\n",
        "print(\"Float List:\", float_list)\n",
        "\n",
        "# Convert numbers to strings (not necessary but shown for completeness)\n",
        "string_list = [str(x) for x in float_list]\n",
        "print(\"String List:\", string_list)\n",
        "\n",
        "# Convert numbers to boolean (0 is False, others are True)\n",
        "bool_list = [bool(float(x)) for x in str_list]\n",
        "print(\"Boolean List:\", bool_list)\n"
      ],
      "metadata": {
        "colab": {
          "base_uri": "https://localhost:8080/"
        },
        "id": "fLYZXNrt0xpx",
        "outputId": "f1721f33-65d6-4936-e54a-3152b40106ed"
      },
      "execution_count": 24,
      "outputs": [
        {
          "output_type": "stream",
          "name": "stdout",
          "text": [
            "Integer List: [10, 20, 30]\n",
            "Float List: [10.0, 20.0, 30.0, 40.5, 50.7]\n",
            "String List: ['10.0', '20.0', '30.0', '40.5', '50.7']\n",
            "Boolean List: [True, True, True, True, True]\n"
          ]
        }
      ]
    },
    {
      "cell_type": "code",
      "source": [
        "#10.0 Write a program that checks if a number is positive, negative, or zero0\n",
        "# Taking user input\n",
        "num = float(input(\"Enter a number: \"))\n",
        "\n",
        "# Checking the number\n",
        "if num > 0:\n",
        "    print(\"The number is Positive.\")\n",
        "elif num < 0:\n",
        "    print(\"The number is Negative.\")\n",
        "else:\n",
        "    print(\"The number is Zero.\")\n"
      ],
      "metadata": {
        "colab": {
          "base_uri": "https://localhost:8080/"
        },
        "id": "JEQJbuzy1QBO",
        "outputId": "23073b47-da80-4360-cb85-f404fd741867"
      },
      "execution_count": 25,
      "outputs": [
        {
          "output_type": "stream",
          "name": "stdout",
          "text": [
            "Enter a number: 10\n",
            "The number is Positive.\n"
          ]
        }
      ]
    },
    {
      "cell_type": "code",
      "source": [
        "#11.Write a for loop to print numbers from 1 to 10\n",
        "for num in range(1, 10):\n",
        "    print(num, end=\" \")\n"
      ],
      "metadata": {
        "colab": {
          "base_uri": "https://localhost:8080/"
        },
        "id": "nfyBmTy91bwQ",
        "outputId": "56b1a054-a50a-4298-a2d7-94b199873757"
      },
      "execution_count": 28,
      "outputs": [
        {
          "output_type": "stream",
          "name": "stdout",
          "text": [
            "1 2 3 4 5 6 7 8 9 "
          ]
        }
      ]
    },
    {
      "cell_type": "code",
      "source": [
        "#12.Write a Python program to find the sum of all even numbers between 1 and 500\n",
        "\n",
        "sum_even = 0\n",
        "\n",
        "# Loop through even numbers from 2 to 500 (step = 2)\n",
        "for num in range(2, 501, 2):\n",
        "    sum_even += num  # Add even number to sum\n",
        "\n",
        "print(\"The sum of all even numbers between 1 and 500 is:\", sum_even)\n"
      ],
      "metadata": {
        "colab": {
          "base_uri": "https://localhost:8080/"
        },
        "id": "NrMBuisu1nIw",
        "outputId": "26e0aac7-09dd-403c-fbe0-b07abf14937f"
      },
      "execution_count": 29,
      "outputs": [
        {
          "output_type": "stream",
          "name": "stdout",
          "text": [
            "The sum of all even numbers between 1 and 500 is: 62750\n"
          ]
        }
      ]
    },
    {
      "cell_type": "code",
      "source": [
        "#13. Write a program to reverse a string using a while loop0\n",
        "\n",
        "string = input(\"Enter a string: \")\n",
        "\n",
        "# Initialize an empty string to store the reversed version\n",
        "reversed_string = \"\"\n",
        "\n",
        "# Get the length of the string\n",
        "index = len(string)\n",
        "\n",
        "# Use a while loop to reverse the string\n",
        "while index > 0:\n",
        "    reversed_string += string[index - 1]  # Append last character first\n",
        "    index -= 1  # Move to the previous character\n",
        "\n",
        "print(\"Reversed string:\", reversed_string)\n",
        "\n"
      ],
      "metadata": {
        "colab": {
          "base_uri": "https://localhost:8080/"
        },
        "id": "qled5Nsq2Ftd",
        "outputId": "526d11b2-abe2-4c2d-d00e-3bfe86a9f6c9"
      },
      "execution_count": 2,
      "outputs": [
        {
          "output_type": "stream",
          "name": "stdout",
          "text": [
            "Enter a string: shivam \n",
            "Reversed string:  mavihs\n"
          ]
        }
      ]
    },
    {
      "cell_type": "code",
      "source": [
        "#14. Write a Python program to calculate the factorial of a number provided by the user using a while loop\n",
        "# Take user input\n",
        "num = int(input(\"Enter a number: \"))\n",
        "\n",
        "# Initialize factorial and counter\n",
        "factorial = 1\n",
        "i = num\n",
        "\n",
        "# Validate input (factorial is only for non-negative numbers)\n",
        "if num < 0:\n",
        "    print(\"Factorial is not defined for negative numbers.\")\n",
        "else:\n",
        "    # While loop to calculate factorial\n",
        "    while i > 0:\n",
        "        factorial *= i  # Multiply current number\n",
        "        i -= 1  # Decrease counter\n",
        "\n",
        "    # Print result\n",
        "    print(f\"Factorial of {num} is {factorial}\")\n"
      ],
      "metadata": {
        "colab": {
          "base_uri": "https://localhost:8080/"
        },
        "id": "aYuBAzvE28Fo",
        "outputId": "0e300489-536e-4553-8137-c1259068abf4"
      },
      "execution_count": 4,
      "outputs": [
        {
          "output_type": "stream",
          "name": "stdout",
          "text": [
            "Enter a number: 4\n",
            "Factorial of 4 is 24\n"
          ]
        }
      ]
    }
  ]
}